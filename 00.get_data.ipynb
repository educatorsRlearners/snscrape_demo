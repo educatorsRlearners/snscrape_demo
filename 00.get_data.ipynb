{
 "cells": [
  {
   "cell_type": "markdown",
   "metadata": {},
   "source": [
    "# Install Libraries and Load the Libraries"
   ]
  },
  {
   "cell_type": "code",
   "execution_count": null,
   "metadata": {},
   "outputs": [],
   "source": [
    "#Install the Libraries\n",
    "!pip install pandas\n",
    "!pip install git+https://github.com/JustAnotherArchivist/snscrape.git \n",
    "!pip install matplotlib"
   ]
  },
  {
   "cell_type": "code",
   "execution_count": 6,
   "metadata": {},
   "outputs": [],
   "source": [
    "import pandas as pd\n",
    "\n",
    "#Change the display to better accomodate viewing long strings\n",
    "pd.set_option('display.max_colwidth', None)"
   ]
  },
  {
   "cell_type": "markdown",
   "metadata": {},
   "source": [
    "# Collect the Data"
   ]
  },
  {
   "cell_type": "code",
   "execution_count": 7,
   "metadata": {},
   "outputs": [],
   "source": [
    "# Get the Last 100 Tweets by user @elonmusk\n",
    "\n",
    "!snscrape --jsonl --max-results 100 twitter-user elonmusk > elonmusk.json\n"
   ]
  },
  {
   "cell_type": "code",
   "execution_count": 8,
   "metadata": {},
   "outputs": [
    {
     "data": {
      "text/html": [
       "<div>\n",
       "<style scoped>\n",
       "    .dataframe tbody tr th:only-of-type {\n",
       "        vertical-align: middle;\n",
       "    }\n",
       "\n",
       "    .dataframe tbody tr th {\n",
       "        vertical-align: top;\n",
       "    }\n",
       "\n",
       "    .dataframe thead th {\n",
       "        text-align: right;\n",
       "    }\n",
       "</style>\n",
       "<table border=\"1\" class=\"dataframe\">\n",
       "  <thead>\n",
       "    <tr style=\"text-align: right;\">\n",
       "      <th></th>\n",
       "      <th>0</th>\n",
       "      <th>1</th>\n",
       "      <th>2</th>\n",
       "      <th>3</th>\n",
       "      <th>4</th>\n",
       "    </tr>\n",
       "  </thead>\n",
       "  <tbody>\n",
       "    <tr>\n",
       "      <th>date</th>\n",
       "      <td>2022-09-07 04:19:58+00:00</td>\n",
       "      <td>2022-09-06 21:42:36+00:00</td>\n",
       "      <td>2022-09-06 17:36:37+00:00</td>\n",
       "      <td>2022-09-06 17:23:30+00:00</td>\n",
       "      <td>2022-09-06 16:54:59+00:00</td>\n",
       "    </tr>\n",
       "    <tr>\n",
       "      <th>content</th>\n",
       "      <td>“That’s not punny!”</td>\n",
       "      <td>@WholeMarsBlog More solar + batteries needed. Batteries are great at dealing with peak demand.</td>\n",
       "      <td>@kerrikgray @lexfridman 👍</td>\n",
       "      <td>@lexfridman I accept 99% of cookies, but 💯 if choc chip</td>\n",
       "      <td>@garyblack00 If Twitter put as much effort into bot/spam removal as they do into subpoenas, we wouldn’t have this problem in the first place!</td>\n",
       "    </tr>\n",
       "    <tr>\n",
       "      <th>user</th>\n",
       "      <td>{'_type': 'snscrape.modules.twitter.User', 'username': 'elonmusk', 'id': 44196397, 'displayname': 'Elon Musk', 'description': 'Mars &amp; Cars, Chips &amp; Dips', 'rawDescription': 'Mars &amp; Cars, Chips &amp; Dips', 'descriptionUrls': None, 'verified': True, 'created': '2009-06-02T20:12:29+00:00', 'followersCount': 105139735, 'friendsCount': 123, 'statusesCount': 19166, 'favouritesCount': 14025, 'listedCount': 97771, 'mediaCount': 1211, 'location': '', 'protected': False, 'linkUrl': None, 'linkTcourl': None, 'profileImageUrl': 'https://pbs.twimg.com/profile_images/1529956155937759233/Nyn1HZWF_normal.jpg', 'profileBannerUrl': 'https://pbs.twimg.com/profile_banners/44196397/1576183471', 'label': None, 'url': 'https://twitter.com/elonmusk'}</td>\n",
       "      <td>{'_type': 'snscrape.modules.twitter.User', 'username': 'elonmusk', 'id': 44196397, 'displayname': 'Elon Musk', 'description': 'Mars &amp; Cars, Chips &amp; Dips', 'rawDescription': 'Mars &amp; Cars, Chips &amp; Dips', 'descriptionUrls': None, 'verified': True, 'created': '2009-06-02T20:12:29+00:00', 'followersCount': 105139735, 'friendsCount': 123, 'statusesCount': 19166, 'favouritesCount': 14025, 'listedCount': 97771, 'mediaCount': 1211, 'location': '', 'protected': False, 'linkUrl': None, 'linkTcourl': None, 'profileImageUrl': 'https://pbs.twimg.com/profile_images/1529956155937759233/Nyn1HZWF_normal.jpg', 'profileBannerUrl': 'https://pbs.twimg.com/profile_banners/44196397/1576183471', 'label': None, 'url': 'https://twitter.com/elonmusk'}</td>\n",
       "      <td>{'_type': 'snscrape.modules.twitter.User', 'username': 'elonmusk', 'id': 44196397, 'displayname': 'Elon Musk', 'description': 'Mars &amp; Cars, Chips &amp; Dips', 'rawDescription': 'Mars &amp; Cars, Chips &amp; Dips', 'descriptionUrls': None, 'verified': True, 'created': '2009-06-02T20:12:29+00:00', 'followersCount': 105139735, 'friendsCount': 123, 'statusesCount': 19166, 'favouritesCount': 14025, 'listedCount': 97771, 'mediaCount': 1211, 'location': '', 'protected': False, 'linkUrl': None, 'linkTcourl': None, 'profileImageUrl': 'https://pbs.twimg.com/profile_images/1529956155937759233/Nyn1HZWF_normal.jpg', 'profileBannerUrl': 'https://pbs.twimg.com/profile_banners/44196397/1576183471', 'label': None, 'url': 'https://twitter.com/elonmusk'}</td>\n",
       "      <td>{'_type': 'snscrape.modules.twitter.User', 'username': 'elonmusk', 'id': 44196397, 'displayname': 'Elon Musk', 'description': 'Mars &amp; Cars, Chips &amp; Dips', 'rawDescription': 'Mars &amp; Cars, Chips &amp; Dips', 'descriptionUrls': None, 'verified': True, 'created': '2009-06-02T20:12:29+00:00', 'followersCount': 105139735, 'friendsCount': 123, 'statusesCount': 19166, 'favouritesCount': 14025, 'listedCount': 97771, 'mediaCount': 1211, 'location': '', 'protected': False, 'linkUrl': None, 'linkTcourl': None, 'profileImageUrl': 'https://pbs.twimg.com/profile_images/1529956155937759233/Nyn1HZWF_normal.jpg', 'profileBannerUrl': 'https://pbs.twimg.com/profile_banners/44196397/1576183471', 'label': None, 'url': 'https://twitter.com/elonmusk'}</td>\n",
       "      <td>{'_type': 'snscrape.modules.twitter.User', 'username': 'elonmusk', 'id': 44196397, 'displayname': 'Elon Musk', 'description': 'Mars &amp; Cars, Chips &amp; Dips', 'rawDescription': 'Mars &amp; Cars, Chips &amp; Dips', 'descriptionUrls': None, 'verified': True, 'created': '2009-06-02T20:12:29+00:00', 'followersCount': 105139735, 'friendsCount': 123, 'statusesCount': 19166, 'favouritesCount': 14025, 'listedCount': 97771, 'mediaCount': 1211, 'location': '', 'protected': False, 'linkUrl': None, 'linkTcourl': None, 'profileImageUrl': 'https://pbs.twimg.com/profile_images/1529956155937759233/Nyn1HZWF_normal.jpg', 'profileBannerUrl': 'https://pbs.twimg.com/profile_banners/44196397/1576183471', 'label': None, 'url': 'https://twitter.com/elonmusk'}</td>\n",
       "    </tr>\n",
       "    <tr>\n",
       "      <th>replyCount</th>\n",
       "      <td>4227</td>\n",
       "      <td>2226</td>\n",
       "      <td>294</td>\n",
       "      <td>2279</td>\n",
       "      <td>697</td>\n",
       "    </tr>\n",
       "    <tr>\n",
       "      <th>retweetCount</th>\n",
       "      <td>2736</td>\n",
       "      <td>1119</td>\n",
       "      <td>65</td>\n",
       "      <td>2514</td>\n",
       "      <td>934</td>\n",
       "    </tr>\n",
       "    <tr>\n",
       "      <th>likeCount</th>\n",
       "      <td>48152</td>\n",
       "      <td>17277</td>\n",
       "      <td>1803</td>\n",
       "      <td>62769</td>\n",
       "      <td>9675</td>\n",
       "    </tr>\n",
       "    <tr>\n",
       "      <th>hashtags</th>\n",
       "      <td>NaN</td>\n",
       "      <td>NaN</td>\n",
       "      <td>NaN</td>\n",
       "      <td>NaN</td>\n",
       "      <td>NaN</td>\n",
       "    </tr>\n",
       "  </tbody>\n",
       "</table>\n",
       "</div>"
      ],
      "text/plain": [
       "                                                                                                                                                                                                                                                                                                                                                                                                                                                                                                                                                                                                                                                                                                                                                                          0  \\\n",
       "date                                                                                                                                                                                                                                                                                                                                                                                                                                                                                                                                                                                                                                                                                                                                              2022-09-07 04:19:58+00:00   \n",
       "content                                                                                                                                                                                                                                                                                                                                                                                                                                                                                                                                                                                                                                                                                                                                                 “That’s not punny!”   \n",
       "user          {'_type': 'snscrape.modules.twitter.User', 'username': 'elonmusk', 'id': 44196397, 'displayname': 'Elon Musk', 'description': 'Mars & Cars, Chips & Dips', 'rawDescription': 'Mars & Cars, Chips & Dips', 'descriptionUrls': None, 'verified': True, 'created': '2009-06-02T20:12:29+00:00', 'followersCount': 105139735, 'friendsCount': 123, 'statusesCount': 19166, 'favouritesCount': 14025, 'listedCount': 97771, 'mediaCount': 1211, 'location': '', 'protected': False, 'linkUrl': None, 'linkTcourl': None, 'profileImageUrl': 'https://pbs.twimg.com/profile_images/1529956155937759233/Nyn1HZWF_normal.jpg', 'profileBannerUrl': 'https://pbs.twimg.com/profile_banners/44196397/1576183471', 'label': None, 'url': 'https://twitter.com/elonmusk'}   \n",
       "replyCount                                                                                                                                                                                                                                                                                                                                                                                                                                                                                                                                                                                                                                                                                                                                                             4227   \n",
       "retweetCount                                                                                                                                                                                                                                                                                                                                                                                                                                                                                                                                                                                                                                                                                                                                                           2736   \n",
       "likeCount                                                                                                                                                                                                                                                                                                                                                                                                                                                                                                                                                                                                                                                                                                                                                             48152   \n",
       "hashtags                                                                                                                                                                                                                                                                                                                                                                                                                                                                                                                                                                                                                                                                                                                                                                NaN   \n",
       "\n",
       "                                                                                                                                                                                                                                                                                                                                                                                                                                                                                                                                                                                                                                                                                                                                                                          1  \\\n",
       "date                                                                                                                                                                                                                                                                                                                                                                                                                                                                                                                                                                                                                                                                                                                                              2022-09-06 21:42:36+00:00   \n",
       "content                                                                                                                                                                                                                                                                                                                                                                                                                                                                                                                                                                                                                                                                      @WholeMarsBlog More solar + batteries needed. Batteries are great at dealing with peak demand.   \n",
       "user          {'_type': 'snscrape.modules.twitter.User', 'username': 'elonmusk', 'id': 44196397, 'displayname': 'Elon Musk', 'description': 'Mars & Cars, Chips & Dips', 'rawDescription': 'Mars & Cars, Chips & Dips', 'descriptionUrls': None, 'verified': True, 'created': '2009-06-02T20:12:29+00:00', 'followersCount': 105139735, 'friendsCount': 123, 'statusesCount': 19166, 'favouritesCount': 14025, 'listedCount': 97771, 'mediaCount': 1211, 'location': '', 'protected': False, 'linkUrl': None, 'linkTcourl': None, 'profileImageUrl': 'https://pbs.twimg.com/profile_images/1529956155937759233/Nyn1HZWF_normal.jpg', 'profileBannerUrl': 'https://pbs.twimg.com/profile_banners/44196397/1576183471', 'label': None, 'url': 'https://twitter.com/elonmusk'}   \n",
       "replyCount                                                                                                                                                                                                                                                                                                                                                                                                                                                                                                                                                                                                                                                                                                                                                             2226   \n",
       "retweetCount                                                                                                                                                                                                                                                                                                                                                                                                                                                                                                                                                                                                                                                                                                                                                           1119   \n",
       "likeCount                                                                                                                                                                                                                                                                                                                                                                                                                                                                                                                                                                                                                                                                                                                                                             17277   \n",
       "hashtags                                                                                                                                                                                                                                                                                                                                                                                                                                                                                                                                                                                                                                                                                                                                                                NaN   \n",
       "\n",
       "                                                                                                                                                                                                                                                                                                                                                                                                                                                                                                                                                                                                                                                                                                                                                                          2  \\\n",
       "date                                                                                                                                                                                                                                                                                                                                                                                                                                                                                                                                                                                                                                                                                                                                              2022-09-06 17:36:37+00:00   \n",
       "content                                                                                                                                                                                                                                                                                                                                                                                                                                                                                                                                                                                                                                                                                                                                           @kerrikgray @lexfridman 👍   \n",
       "user          {'_type': 'snscrape.modules.twitter.User', 'username': 'elonmusk', 'id': 44196397, 'displayname': 'Elon Musk', 'description': 'Mars & Cars, Chips & Dips', 'rawDescription': 'Mars & Cars, Chips & Dips', 'descriptionUrls': None, 'verified': True, 'created': '2009-06-02T20:12:29+00:00', 'followersCount': 105139735, 'friendsCount': 123, 'statusesCount': 19166, 'favouritesCount': 14025, 'listedCount': 97771, 'mediaCount': 1211, 'location': '', 'protected': False, 'linkUrl': None, 'linkTcourl': None, 'profileImageUrl': 'https://pbs.twimg.com/profile_images/1529956155937759233/Nyn1HZWF_normal.jpg', 'profileBannerUrl': 'https://pbs.twimg.com/profile_banners/44196397/1576183471', 'label': None, 'url': 'https://twitter.com/elonmusk'}   \n",
       "replyCount                                                                                                                                                                                                                                                                                                                                                                                                                                                                                                                                                                                                                                                                                                                                                              294   \n",
       "retweetCount                                                                                                                                                                                                                                                                                                                                                                                                                                                                                                                                                                                                                                                                                                                                                             65   \n",
       "likeCount                                                                                                                                                                                                                                                                                                                                                                                                                                                                                                                                                                                                                                                                                                                                                              1803   \n",
       "hashtags                                                                                                                                                                                                                                                                                                                                                                                                                                                                                                                                                                                                                                                                                                                                                                NaN   \n",
       "\n",
       "                                                                                                                                                                                                                                                                                                                                                                                                                                                                                                                                                                                                                                                                                                                                                                          3  \\\n",
       "date                                                                                                                                                                                                                                                                                                                                                                                                                                                                                                                                                                                                                                                                                                                                              2022-09-06 17:23:30+00:00   \n",
       "content                                                                                                                                                                                                                                                                                                                                                                                                                                                                                                                                                                                                                                                                                                             @lexfridman I accept 99% of cookies, but 💯 if choc chip   \n",
       "user          {'_type': 'snscrape.modules.twitter.User', 'username': 'elonmusk', 'id': 44196397, 'displayname': 'Elon Musk', 'description': 'Mars & Cars, Chips & Dips', 'rawDescription': 'Mars & Cars, Chips & Dips', 'descriptionUrls': None, 'verified': True, 'created': '2009-06-02T20:12:29+00:00', 'followersCount': 105139735, 'friendsCount': 123, 'statusesCount': 19166, 'favouritesCount': 14025, 'listedCount': 97771, 'mediaCount': 1211, 'location': '', 'protected': False, 'linkUrl': None, 'linkTcourl': None, 'profileImageUrl': 'https://pbs.twimg.com/profile_images/1529956155937759233/Nyn1HZWF_normal.jpg', 'profileBannerUrl': 'https://pbs.twimg.com/profile_banners/44196397/1576183471', 'label': None, 'url': 'https://twitter.com/elonmusk'}   \n",
       "replyCount                                                                                                                                                                                                                                                                                                                                                                                                                                                                                                                                                                                                                                                                                                                                                             2279   \n",
       "retweetCount                                                                                                                                                                                                                                                                                                                                                                                                                                                                                                                                                                                                                                                                                                                                                           2514   \n",
       "likeCount                                                                                                                                                                                                                                                                                                                                                                                                                                                                                                                                                                                                                                                                                                                                                             62769   \n",
       "hashtags                                                                                                                                                                                                                                                                                                                                                                                                                                                                                                                                                                                                                                                                                                                                                                NaN   \n",
       "\n",
       "                                                                                                                                                                                                                                                                                                                                                                                                                                                                                                                                                                                                                                                                                                                                                                          4  \n",
       "date                                                                                                                                                                                                                                                                                                                                                                                                                                                                                                                                                                                                                                                                                                                                              2022-09-06 16:54:59+00:00  \n",
       "content                                                                                                                                                                                                                                                                                                                                                                                                                                                                                                                                                                                                                       @garyblack00 If Twitter put as much effort into bot/spam removal as they do into subpoenas, we wouldn’t have this problem in the first place!  \n",
       "user          {'_type': 'snscrape.modules.twitter.User', 'username': 'elonmusk', 'id': 44196397, 'displayname': 'Elon Musk', 'description': 'Mars & Cars, Chips & Dips', 'rawDescription': 'Mars & Cars, Chips & Dips', 'descriptionUrls': None, 'verified': True, 'created': '2009-06-02T20:12:29+00:00', 'followersCount': 105139735, 'friendsCount': 123, 'statusesCount': 19166, 'favouritesCount': 14025, 'listedCount': 97771, 'mediaCount': 1211, 'location': '', 'protected': False, 'linkUrl': None, 'linkTcourl': None, 'profileImageUrl': 'https://pbs.twimg.com/profile_images/1529956155937759233/Nyn1HZWF_normal.jpg', 'profileBannerUrl': 'https://pbs.twimg.com/profile_banners/44196397/1576183471', 'label': None, 'url': 'https://twitter.com/elonmusk'}  \n",
       "replyCount                                                                                                                                                                                                                                                                                                                                                                                                                                                                                                                                                                                                                                                                                                                                                              697  \n",
       "retweetCount                                                                                                                                                                                                                                                                                                                                                                                                                                                                                                                                                                                                                                                                                                                                                            934  \n",
       "likeCount                                                                                                                                                                                                                                                                                                                                                                                                                                                                                                                                                                                                                                                                                                                                                              9675  \n",
       "hashtags                                                                                                                                                                                                                                                                                                                                                                                                                                                                                                                                                                                                                                                                                                                                                                NaN  "
      ]
     },
     "execution_count": 8,
     "metadata": {},
     "output_type": "execute_result"
    }
   ],
   "source": [
    "# Create a helper function to convert a json file to a pandas df\n",
    "\n",
    "keep = ['date', 'content', 'user', \"replyCount\", \"retweetCount\",\n",
    "        'likeCount', 'hashtags'] \n",
    "\n",
    "def prepare(filepath):\n",
    "    \"\"\"Convert json file to pandas df keeping selected columns\"\"\"\n",
    "    df = pd.read_json(filepath, lines=True)\n",
    "    return df.loc[:, keep]             \n",
    "\n",
    "\n",
    "df_elon = prepare(\"elonmusk.json\")\n",
    "df_elon.head().T"
   ]
  },
  {
   "cell_type": "code",
   "execution_count": null,
   "metadata": {},
   "outputs": [],
   "source": [
    "#Get All Tweets with the hashtag MAGA from January 6th, 2020, show the progress, save the results \n",
    "\n",
    "#NB: This took a little over 3 minutes to scrape 5234 tweets on my laptop \n",
    "\n",
    "!snscrape --jsonl --progress twitter-hashtag \"#MAGA since:2020-01-06 until:2020-01-07\"> \"MAGA_jan_06.json\""
   ]
  },
  {
   "cell_type": "code",
   "execution_count": null,
   "metadata": {},
   "outputs": [],
   "source": [
    "df_maga = prepare(\"MAGA_jan_06.json\")\n",
    "df_maga.head().T"
   ]
  },
  {
   "cell_type": "code",
   "execution_count": null,
   "metadata": {},
   "outputs": [],
   "source": [
    "#Get All Tweets by @narendramodi which include \"money\" and save the results \n",
    "\n",
    "!snscrape --jsonl twitter-search \"money from:narendramodi\" > modi.json\n"
   ]
  },
  {
   "cell_type": "code",
   "execution_count": null,
   "metadata": {},
   "outputs": [],
   "source": [
    "df_modi = prepare('modi.json')\n",
    "print(df_modi.shape)\n",
    "df_modi.head().T"
   ]
  },
  {
   "cell_type": "markdown",
   "metadata": {},
   "source": [
    "# Practice \n",
    "\n",
    "For each of the problems below: \n",
    "- scrape the data as requested\n",
    "- save it to a .json file\n",
    "- convert the .json file to a pandas data frame\n",
    "- inspect the data frame by printing the first five rows\n",
    "\n",
    "Need a hint? Then check out: \n",
    "- [Twitter Advanced Search](https://www.twitter.com/search-advanced)\n",
    "- [Advanced Search on Twitter Samples](https://github.com/igorbrigadir/twitter-advanced-search)"
   ]
  },
  {
   "cell_type": "code",
   "execution_count": null,
   "metadata": {},
   "outputs": [],
   "source": [
    "# Get the last 100 tweets which used the hashtag shakespeare"
   ]
  },
  {
   "cell_type": "code",
   "execution_count": null,
   "metadata": {},
   "outputs": [],
   "source": [
    "# Collect the last 500 tweets which used the hashtag brexit on June 24, 2016"
   ]
  },
  {
   "cell_type": "markdown",
   "metadata": {},
   "source": [
    "Scroll Down to check your answers  \n",
    "⬇  \n",
    "⬇  \n",
    "⬇  \n",
    "⬇  \n",
    "⬇  \n",
    "⬇  \n",
    "⬇  \n",
    "⬇  \n",
    "⬇  \n",
    "⬇  \n",
    "⬇  \n",
    "⬇  \n",
    "⬇  \n",
    "⬇  \n",
    "⬇  \n",
    "⬇  \n",
    "⬇  \n",
    "⬇  \n",
    "⬇  \n",
    "⬇  \n",
    "⬇  "
   ]
  },
  {
   "cell_type": "markdown",
   "metadata": {},
   "source": [
    "# Answers "
   ]
  },
  {
   "cell_type": "code",
   "execution_count": null,
   "metadata": {},
   "outputs": [],
   "source": [
    "# Get the last 100 tweets which used the hashtag shakespeare and save it to a .json file \n",
    "# !snscrape --jsonl --max-results 100 twitter-hashtag shakespeare > shakespeare.json\n",
    "\n",
    "# Collect the last 500 tweets which used the hashtag brexit on June 24, 2016\n",
    "# !snscrape --jsonl --max-results 500 twitter-hashtag \"#brexit since:2016-06-24 until:2016-06-25\"> \"brexit_jun_24.json\""
   ]
  },
  {
   "cell_type": "markdown",
   "metadata": {},
   "source": [
    "# Your Turn\n",
    "What is a research question you have?  \n",
    "\n",
    "Would  Twitter data inform your answer? \n",
    "\n",
    "If so, take this time to scrape some tweets. \n",
    "\n",
    "If not, have some fun and scrape some tweets anyways :D "
   ]
  },
  {
   "cell_type": "markdown",
   "metadata": {},
   "source": [
    "# Where to learn more about snscrape\n",
    "- [Official Github Repo](https://github.com/JustAnotherArchivist/snscrape/tree/master/snscrape/modules) \n",
    "- [Projects using snscrape](https://github.com/JustAnotherArchivist/snscrape/network/dependents)\n",
    "- [Medium Reading List](https://pevansimpson.medium.com/list/snscrape-b92a7e24f605) \n",
    "\n",
    "# Next Steps\n",
    "\n",
    "\n",
    "## Create a Word Cloud\n",
    "\n",
    "Refer to this [tutorial](https://constellate.org/tutorials/exploring-word-frequencies) for detailed instructions on creating word clouds\n",
    "\n",
    "\n",
    "## Sentiment Analysis with Vader\n",
    "See this [tutorial](https://constellate.org/tutorials/sentiment-analysis-with-vader) for step-by-step insructions on using Vader for sentiment analysis "
   ]
  }
 ],
 "metadata": {
  "kernelspec": {
   "display_name": "Python 3.9.12 ('tdm')",
   "language": "python",
   "name": "python3"
  },
  "language_info": {
   "codemirror_mode": {
    "name": "ipython",
    "version": 3
   },
   "file_extension": ".py",
   "mimetype": "text/x-python",
   "name": "python",
   "nbconvert_exporter": "python",
   "pygments_lexer": "ipython3",
   "version": "3.9.12"
  },
  "orig_nbformat": 4,
  "vscode": {
   "interpreter": {
    "hash": "41a0713c27a611ae4c252d07a860abe861b90ecc2734cda6ac79a3456af02666"
   }
  }
 },
 "nbformat": 4,
 "nbformat_minor": 2
}
